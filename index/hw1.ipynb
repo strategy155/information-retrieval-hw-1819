{
 "cells": [
  {
   "cell_type": "markdown",
   "metadata": {},
   "source": [
    "## Семинар 1 Индекс\n",
    "\n",
    "## Intro"
   ]
  },
  {
   "cell_type": "markdown",
   "metadata": {},
   "source": [
    "### чтение файла \n",
    "- конструкция __with open__ (recommended)\n",
    "- конструкция __open + close__"
   ]
  },
  {
   "cell_type": "code",
   "execution_count": null,
   "metadata": {},
   "outputs": [],
   "source": [
    "fpath = 'fpath.txt'\n",
    "\n",
    "# одним массивом  \n",
    "with open(fpath, 'r') as f:  \n",
    "    text = f.read() \n",
    "\n",
    "#по строкам, в конце каждой строки \\n  \n",
    "with open(fpath, 'r') as f:   \n",
    "    text = f.readlines() \n",
    "\n",
    "#по строкам, без \\n   \n",
    "with open(fpath, 'r') as f:   \n",
    "    text = f.read().splitlines() \n",
    "    \n",
    "#not reccomended  \n",
    "file = open(txt_fpath, 'r')  \n",
    "text = file.read()    \n",
    "file.close() "
   ]
  },
  {
   "cell_type": "markdown",
   "metadata": {},
   "source": [
    "### работа с файлами и папками"
   ]
  },
  {
   "cell_type": "markdown",
   "metadata": {},
   "source": [
    "### os.path  \n",
    "путь до файла"
   ]
  },
  {
   "cell_type": "code",
   "execution_count": 45,
   "metadata": {},
   "outputs": [
    {
     "name": "stdout",
     "output_type": "stream",
     "text": [
      "D:\\work\\ir\\data\\fpath.txt\n",
      "fpath.txt\n",
      "False\n"
     ]
    }
   ],
   "source": [
    "import os\n",
    "\n",
    "# возвращает полный путь до папки/файла по имени файла / папки\n",
    "print(os.path.abspath('fpath.txt'))\n",
    "\n",
    "# возвращает имя файла / папки по полному пути до него\n",
    "print(os.path.basename('/your/path/to/folder/with/fpath.txt'))\n",
    "\n",
    "# проверить существование директории - True / False\n",
    "print(os.path.exists('your/path/to/any/folder/'))"
   ]
  },
  {
   "cell_type": "markdown",
   "metadata": {},
   "source": [
    "### os.listdir  \n",
    "возвращает список файлов в данной директории"
   ]
  },
  {
   "cell_type": "code",
   "execution_count": null,
   "metadata": {},
   "outputs": [],
   "source": [
    "main_dir = '/your/path/to/folder/with/folders/'\n",
    "os.listdir(main_dir)"
   ]
  },
  {
   "cell_type": "markdown",
   "metadata": {},
   "source": [
    "сделаем пути абсолютными, чтобы наш код не зависел от того, где лежит этот файл"
   ]
  },
  {
   "cell_type": "code",
   "execution_count": null,
   "metadata": {},
   "outputs": [],
   "source": [
    "[main_dir + fpath for fpath in os.listdir(main_dir)]"
   ]
  },
  {
   "cell_type": "markdown",
   "metadata": {},
   "source": [
    "не забывайте исключать системные директории, такие как .DS_Store"
   ]
  },
  {
   "cell_type": "code",
   "execution_count": null,
   "metadata": {},
   "outputs": [],
   "source": [
    "[main_dir + fpath for fpath in os.listdir(main_dir) if not '.DS_Store' in fpath]"
   ]
  },
  {
   "cell_type": "markdown",
   "metadata": {},
   "source": [
    "### os.walk\n",
    "root - начальная директория  \n",
    "dirs - список поддиректорий (папок)   \n",
    "files - список файлов в этих поддиректориях  "
   ]
  },
  {
   "cell_type": "code",
   "execution_count": null,
   "metadata": {},
   "outputs": [],
   "source": [
    "main_dir = '/your/path/to/folder/with/folders/'\n",
    "\n",
    "for root, dirs, files in os.walk(main_dir):\n",
    "    for name in files:\n",
    "        print(os.path.join(root, name))"
   ]
  },
  {
   "cell_type": "markdown",
   "metadata": {},
   "source": [
    "> __os.walk__ возвращает генератор, это значит, что получить его элементы можно только проитерировавшись по нему  \n",
    "но его легко можно превратить в list и увидеть все его значения"
   ]
  },
  {
   "cell_type": "code",
   "execution_count": null,
   "metadata": {},
   "outputs": [],
   "source": [
    "list(os.walk(main_dir))"
   ]
  },
  {
   "cell_type": "markdown",
   "metadata": {},
   "source": [
    "  "
   ]
  },
  {
   "cell_type": "markdown",
   "metadata": {},
   "source": [
    "##  Обратный индекс \n",
    "\n",
    "Сам по себе обратный индекс не может осуществлять поиск, для этого необходимо добавить к нему определенную метрику. Это не совсем очевидная задача, поэтому немного отложим ее. А сейчас посмотрим, что полезного можно вытащить из индекса.    \n",
    "По сути, индекс - это информация о частоте встречаемости слова в каждом документе.   \n",
    "Из этого можно понять, например:\n",
    "1. какое слово является самым часто употребимым / редким\n",
    "2. какие слова встречаются всегда вместе. Так можно парсить твиттер, fb, форумы и отлавливать новые устойчивые выражения в речи\n",
    "3. какой документ является самым большим / маленьким (очень изощренный способ, когда есть _len_)"
   ]
  },
  {
   "cell_type": "markdown",
   "metadata": {},
   "source": [
    "### __Задача__: \n",
    "получите обратный индекс для коллекция документов.    \n",
    "Перед этим постройте матрицу терм-документ и сделайте функцию булева поиска, которая по запросу будет возвращать 5 релевантных документов.   \n",
    "В качестве коллекции возьмите сценарий сезонов сериала Друзья. Одна серия - один документ.\n",
    "\n",
    "[download_friends_corpus](https://yadi.sk/d/k_M7n63A3adGSz)"
   ]
  },
  {
   "cell_type": "markdown",
   "metadata": {},
   "source": [
    "Этапы:   \n",
    "    1. получить коллекцию документов\n",
    "    2. для каждого файла коллекции сделать необходимую на ваш взгляд предобработку\n",
    "    3. получить матрицу терм-документ, написать функцию поиска по ней\n",
    "    4. получить обратный индекс в виде словаря, где ключ - нормализованное слово, \n",
    "    значение - список файлов, в которых это слово встречается\n",
    "    5. вывести кусочек индекса в виде таблицы \n",
    "    6. сделать анализ обратного индекса. Это задание принимается в виде кода и ответов на вопросы"
   ]
  },
  {
   "cell_type": "markdown",
   "metadata": {},
   "source": [
    "![](Friends/wedding.png)"
   ]
  },
  {
   "cell_type": "markdown",
   "metadata": {},
   "source": [
    "Напоминание:    \n",
    "> При итерации по списку вы можете помимо самого элемента получить его порядковый номер    \n",
    "``` for i, element in enumerate(your_list): ...  ```    \n",
    "Иногда для получения элемента делают так -  ``` your_list[i] ```, старайтесь этого избегать"
   ]
  },
  {
   "cell_type": "code",
   "execution_count": 46,
   "metadata": {},
   "outputs": [],
   "source": [
    "main_dir = 'Friends'\n",
    "\n",
    "### пройдитесь по всем папкам коллекции и соберите все пути .txt файлов\n",
    "### _check : в коллекции должно быть 165 файлов\n"
   ]
  },
  {
   "cell_type": "code",
   "execution_count": 47,
   "metadata": {},
   "outputs": [],
   "source": [
    "files_list = []\n",
    "filenames_list = []\n",
    "\n",
    "for root, dirs, filenames in os.walk(main_dir):\n",
    "    for filename in filenames:\n",
    "        filepath = os.path.join(root, filename)\n",
    "        filenames_list.append(os.path.splitext(filename)[0].split('-')[-1].strip())\n",
    "        with open(filepath, 'r',encoding='utf-8-sig') as friends_txt:\n",
    "            files_list.append(friends_txt.read())     "
   ]
  },
  {
   "cell_type": "code",
   "execution_count": 48,
   "metadata": {},
   "outputs": [
    {
     "data": {
      "text/plain": [
       "['The One Where Monica Gets A Roommate.ru',\n",
       " 'The One With The Sonogram At The End.ru',\n",
       " 'The One With The Thumb.ru',\n",
       " 'The One With George Stephanopoulos.ru',\n",
       " 'The One With The East German Laundry Detergent.ru',\n",
       " 'The One With The Butt.ru',\n",
       " 'The One With The Blackout.ru',\n",
       " 'The One Where Nana Dies Twice.ru',\n",
       " 'The One Where Underdog Gets Away.ru',\n",
       " 'The One With The Monkey.ru',\n",
       " 'The One With Mrs. Bing.ru',\n",
       " 'The One With The Dozen Lasagnas.ru',\n",
       " 'The One With The Boobies.ru',\n",
       " 'The One With The Candy Hearts.ru',\n",
       " 'The One With The Stoned Guy.ru',\n",
       " 'The One With Two Parts (1).ru',\n",
       " 'The One With Two Parts (2).ru',\n",
       " 'The One With All The Poker.ru',\n",
       " 'The One Where The Monkey Gets Away.ru',\n",
       " 'The One With The Evil Orthodontist.ru',\n",
       " \"The One With Ross's New Girlfriend.DVDRip.ru\",\n",
       " \"The One With Ross's New Girlfriend.ru\",\n",
       " 'The One With The Breast Milk.ru',\n",
       " 'The One Where Heckles Dies.ru',\n",
       " \"The One With Phoebe's Husband.ru\",\n",
       " 'The One With Five Steaks And An Eggplant.ru',\n",
       " 'The One With The Baby On The Bus.ru',\n",
       " 'The One Where Ross Finds Out.ru',\n",
       " 'The One With The List.ru',\n",
       " \"The One With Phoebe's Dad.ru\",\n",
       " 'The One With Russ.ru',\n",
       " 'The One With The Lesbian Wedding.ru',\n",
       " 'The One After The Super Bowl (1).ru',\n",
       " 'The One After The Super Bowl (2).ru',\n",
       " 'The One With The Prom Video.ru',\n",
       " 'The One Where Ross And Rachel...You Know.ru',\n",
       " 'The One Where Joey Moves Out.ru',\n",
       " 'The One Where Eddie Moves In.ru',\n",
       " 'The One Where Dr. Ramoray Dies.ru',\n",
       " \"The One Where Eddie Won't Go.ru\",\n",
       " 'The One Where Old Yeller Dies.NurlanB.ru',\n",
       " 'The One With The Bullies.ru',\n",
       " 'The One With The Two Parties.ru',\n",
       " 'The One With The Chicken Pox.ru',\n",
       " \"The One With Barry And Mindy's Wedding.ru\",\n",
       " 'The One With The Princess Leia Fantasy.ru',\n",
       " \"The One Where No One's Ready.ru\",\n",
       " 'The One With The Jam.ru',\n",
       " 'The One With The Metaphorical Tunnel.ru',\n",
       " 'The One With Frank Jr..ru',\n",
       " 'The One With The Flashback.ru',\n",
       " 'The One With The Race Car Bed.ru',\n",
       " 'The One With The Giant Poking Device.ru',\n",
       " 'The One With The Football.ru',\n",
       " 'The One Where Rachel Quits.ru',\n",
       " \"The One Where Chandler Can't Remember Which Sister.ru\",\n",
       " 'The One With All The Jealousy.ru',\n",
       " 'The One Where Monica And Richard Are Just Friends.ru',\n",
       " 'Partner.ru',\n",
       " 'The One Where Ross And Rachel Take A Break (1).ru',\n",
       " 'The One With The Morning After (2).ru',\n",
       " 'The One Without The Ski Trip.ru',\n",
       " 'The One With The Hypnosis Tape.ru',\n",
       " 'Shirt.ru',\n",
       " 'The One With The Dollhouse.ru',\n",
       " 'The One With A Chick And A Duck.ru',\n",
       " 'The One With The Jellyfish.ru',\n",
       " 'The One With The Jellyfish.Tv.ru',\n",
       " 'The One With The Cat.ru',\n",
       " 'The One With The Cat.Tv.ru',\n",
       " \"The One With The 'Cuffs.ru\",\n",
       " 'The One With The Ballroom Dancing.ru',\n",
       " \"The One With Joey's New Girlfriend.ru\",\n",
       " 'The One With The Dirty Girl.ru',\n",
       " 'The One Where Chandler Crosses The Line.ru',\n",
       " 'The One With Chandler In A Box.ru',\n",
       " \"The One Where They're Going To Party!.ru\",\n",
       " 'The One With The Girl From Poughkeepsie.ru',\n",
       " \"The One With Phoebe's Uterus.ru\",\n",
       " 'The One With The Embryos.ru',\n",
       " \"The One With Rachel's Crush.ru\",\n",
       " \"The One With Joey's Dirty Day.ru\",\n",
       " 'The One With All The Rugby.ru',\n",
       " 'The One With The Fake Party.ru',\n",
       " 'The One With The Free Porn.ru',\n",
       " \"The One With Rachel's New Dress.ru\",\n",
       " 'The One With All The Haste.ru',\n",
       " 'The One With The Wedding Dresses.ru',\n",
       " 'The One With The Invitations.ru',\n",
       " 'The One With The Worst Best Man Ever.ru',\n",
       " \"The One With Ross's Wedding (1).ru\",\n",
       " \"The One With Ross's Wedding (2).ru\",\n",
       " 'The One After Ross Says Rachel.ru',\n",
       " 'The One With All The Kissing.ru',\n",
       " 'The One Hundredth.ru',\n",
       " 'The One Where Phoebe Hates PBS.ru',\n",
       " 'The One With The Kips.ru',\n",
       " 'The One With The Yeti.ru',\n",
       " 'The One Where Ross Moves In.ru',\n",
       " 'The One With The Thanksgiving Flashbacks.ru',\n",
       " \"The One With Ross's Sandwich.ru\",\n",
       " 'The One With The Inappropriate Sister.ru',\n",
       " 'The One With All The Resolutions.ru',\n",
       " \"The One With Chandler's Work Laugh.ru\",\n",
       " \"The One With Joey's Bag.ru\",\n",
       " 'The One Where Everybody Finds Out.ru',\n",
       " 'The One With The Girl Who Hits Joey.ru',\n",
       " 'The One With The Cop.ru',\n",
       " \"The One With Rachel's Inadvertent Kiss.ru\",\n",
       " 'The One Where Rachel Smokes.ru',\n",
       " \"The One Where Ross Can't Flirt.ru\",\n",
       " 'The One With The Ride Along.ru',\n",
       " 'The One With The Ball.ru',\n",
       " \"The One With Joey's Big Break.ru\",\n",
       " 'The One In Vegas (1).ru',\n",
       " 'The One In Vegas (2).ru',\n",
       " 'The One After Vegas.ru',\n",
       " 'The One Where Ross Hugs Rachel.ru',\n",
       " \"The One With Ross's Denial.ru\",\n",
       " 'The One Where Joey Loses His Insurance.ru',\n",
       " \"The One With Joey's Porsche.ru\",\n",
       " 'The One On The Last Night.ru',\n",
       " 'The One Where Phoebe Runs.ru',\n",
       " \"The One With Ross's Teeth.ru\",\n",
       " 'The One Where Ross Got High.ru',\n",
       " 'The One With The Routine.ru',\n",
       " 'The One With The Apothecary Table.ru',\n",
       " 'The One With The Joke.ru',\n",
       " \"The One With Rachel's Sister (1).ru\",\n",
       " \"The One Where Chandler Can't Cry (2).ru\",\n",
       " 'The One That Could Have Been (1).ru',\n",
       " 'The One That Could Have Been (2).ru',\n",
       " 'The One With Unagi.ru',\n",
       " 'The One Where Ross Dates A Student.ru',\n",
       " \"The One With Joey's Fridge.ru\",\n",
       " 'The One With Mac And C.H.E.E.S.E..ru',\n",
       " \"The One Where Ross Meets Elizabeth's Dad.ru\",\n",
       " \"The One Where Paul's The Man.ru\",\n",
       " 'The One With The Ring.ru',\n",
       " 'The One With The Proposal (1).ru',\n",
       " 'The One With The Proposal (2).ru',\n",
       " \"The One With Monica's Thunder.ru\",\n",
       " \"The One With Rachel's Book.ru\",\n",
       " \"The One With Phoebe's Cookies.ru\",\n",
       " \"The One With Rachel's Assistant.ru\",\n",
       " 'The One With The Engagement Picture.ru',\n",
       " 'The One With The Nap Partners.ru',\n",
       " \"The One With Ross's Library Book.ru\",\n",
       " \"The One Where Chandler Doesn't Like Dogs.ru\",\n",
       " 'The One With All The Candy.ru',\n",
       " 'The One With The Holiday Armadillo.ru',\n",
       " 'The One With All The Cheesecakes.ru',\n",
       " \"The One Where They're Up All Night.ru\",\n",
       " 'The One Where Rosita Dies.ru',\n",
       " 'The One Where They All Turn Thirty.ru',\n",
       " \"The One With Joey's New Brain.ru\",\n",
       " 'The One With The Truth About London.ru',\n",
       " 'The One With The Cheap Wedding Dress.ru',\n",
       " \"The One With Joey's Award.ru\",\n",
       " \"The One With Ross And Monica's Cousin.ru\",\n",
       " \"The One With Rachel's Big Kiss.ru\",\n",
       " 'The One With The Vows.ru',\n",
       " \"The One With Chandler's Dad.ru\",\n",
       " \"The One With Chandler And Monica's Wedding (1).ru\",\n",
       " \"The One With Chandler And Monica's Wedding (2).ru\"]"
      ]
     },
     "execution_count": 48,
     "metadata": {},
     "output_type": "execute_result"
    }
   ],
   "source": [
    "filenames_list"
   ]
  },
  {
   "cell_type": "code",
   "execution_count": null,
   "metadata": {},
   "outputs": [],
   "source": [
    "to"
   ]
  },
  {
   "cell_type": "code",
   "execution_count": 49,
   "metadata": {},
   "outputs": [],
   "source": [
    "import nltk\n",
    "import pymorphy2\n",
    "\n",
    "morph = pymorphy2.MorphAnalyzer()"
   ]
  },
  {
   "cell_type": "code",
   "execution_count": 50,
   "metadata": {},
   "outputs": [],
   "source": [
    "tokens_list = []\n",
    "\n",
    "for file in files_list:\n",
    "    parsed_line = []\n",
    "    tokens = nltk.word_tokenize(file)\n",
    "    for token in tokens:\n",
    "        new_token = morph.parse(token)[0].normal_form\n",
    "        parsed_line.append(new_token)\n",
    "    parsed_line = \" \".join(parsed_line)\n",
    "    tokens_list.append(parsed_line)"
   ]
  },
  {
   "cell_type": "code",
   "execution_count": 61,
   "metadata": {},
   "outputs": [],
   "source": [
    "filename_lengths_src = []\n",
    "\n",
    "for tokens in tokens_list:\n",
    "    filename_lengths_src.append(len(tokens.split()))"
   ]
  },
  {
   "cell_type": "code",
   "execution_count": 65,
   "metadata": {},
   "outputs": [
    {
     "data": {
      "text/plain": [
       "The One Where Monica Gets A Roommate.ru              3620\n",
       "The One With The Sonogram At The End.ru              2018\n",
       "The One With The Thumb.ru                            2536\n",
       "The One With George Stephanopoulos.ru                2722\n",
       "The One With The East German Laundry Detergent.ru    2525\n",
       "The One With The Butt.ru                             2547\n",
       "The One With The Blackout.ru                         2088\n",
       "The One Where Nana Dies Twice.ru                     2054\n",
       "The One Where Underdog Gets Away.ru                  2455\n",
       "The One With The Monkey.ru                           2623\n",
       "The One With Mrs. Bing.ru                            2469\n",
       "The One With The Dozen Lasagnas.ru                   2170\n",
       "The One With The Boobies.ru                          2611\n",
       "The One With The Candy Hearts.ru                     2317\n",
       "The One With The Stoned Guy.ru                       2265\n",
       "The One With Two Parts (1).ru                        2473\n",
       "The One With Two Parts (2).ru                        2432\n",
       "The One With All The Poker.ru                        2426\n",
       "The One Where The Monkey Gets Away.ru                2747\n",
       "The One With The Evil Orthodontist.ru                2748\n",
       "The One With Ross's New Girlfriend.DVDRip.ru         2871\n",
       "The One With Ross's New Girlfriend.ru                2626\n",
       "The One With The Breast Milk.ru                      2137\n",
       "The One Where Heckles Dies.ru                        2393\n",
       "The One With Phoebe's Husband.ru                     2521\n",
       "The One With Five Steaks And An Eggplant.ru          2692\n",
       "The One With The Baby On The Bus.ru                  2031\n",
       "The One Where Ross Finds Out.ru                      2485\n",
       "The One With The List.ru                             2332\n",
       "The One With Phoebe's Dad.ru                         2655\n",
       "                                                     ... \n",
       "The One With Mac And C.H.E.E.S.E..ru                 2851\n",
       "The One Where Ross Meets Elizabeth's Dad.ru          3057\n",
       "The One Where Paul's The Man.ru                      2884\n",
       "The One With The Ring.ru                             2764\n",
       "The One With The Proposal (1).ru                     2369\n",
       "The One With The Proposal (2).ru                     2449\n",
       "The One With Monica's Thunder.ru                     2740\n",
       "The One With Rachel's Book.ru                        2545\n",
       "The One With Phoebe's Cookies.ru                     2787\n",
       "The One With Rachel's Assistant.ru                   2856\n",
       "The One With The Engagement Picture.ru               2908\n",
       "The One With The Nap Partners.ru                     2859\n",
       "The One With Ross's Library Book.ru                  2597\n",
       "The One Where Chandler Doesn't Like Dogs.ru          2847\n",
       "The One With All The Candy.ru                        2740\n",
       "The One With The Holiday Armadillo.ru                2637\n",
       "The One With All The Cheesecakes.ru                  2822\n",
       "The One Where They're Up All Night.ru                2268\n",
       "The One Where Rosita Dies.ru                         2570\n",
       "The One Where They All Turn Thirty.ru                2315\n",
       "The One With Joey's New Brain.ru                     2832\n",
       "The One With The Truth About London.ru               3015\n",
       "The One With The Cheap Wedding Dress.ru              2720\n",
       "The One With Joey's Award.ru                         2947\n",
       "The One With Ross And Monica's Cousin.ru             2699\n",
       "The One With Rachel's Big Kiss.ru                    3101\n",
       "The One With The Vows.ru                             2590\n",
       "The One With Chandler's Dad.ru                       2464\n",
       "The One With Chandler And Monica's Wedding (1).ru    2677\n",
       "The One With Chandler And Monica's Wedding (2).ru    2446\n",
       "Length: 165, dtype: int64"
      ]
     },
     "execution_count": 65,
     "metadata": {},
     "output_type": "execute_result"
    }
   ],
   "source": [
    "length_series = pd.Series(filename_lengths_src)\n",
    "length_series.index = filenames_list\n",
    "length_series"
   ]
  },
  {
   "cell_type": "code",
   "execution_count": 51,
   "metadata": {},
   "outputs": [],
   "source": [
    "import pandas as pd\n",
    "from sklearn.feature_extraction.text import CountVectorizer \n",
    "\n",
    "def fn_tdm_df(docs, docs_names = None):\n",
    "\n",
    "    vectorizer = CountVectorizer()\n",
    "    x1 = vectorizer.fit_transform(docs)\n",
    "    df = pd.DataFrame(x1.toarray().transpose(), index = vectorizer.get_feature_names())\n",
    "    if docs_names is not None:\n",
    "        df.columns = docs_names\n",
    "\n",
    "    return df\n"
   ]
  },
  {
   "cell_type": "code",
   "execution_count": 52,
   "metadata": {},
   "outputs": [],
   "source": [
    "tdm = fn_tdm_df(tokens_list, docs_names = filenames_list)"
   ]
  },
  {
   "cell_type": "code",
   "execution_count": null,
   "metadata": {},
   "outputs": [],
   "source": []
  },
  {
   "cell_type": "code",
   "execution_count": 1,
   "metadata": {},
   "outputs": [
    {
     "ename": "NameError",
     "evalue": "name 'tdm' is not defined",
     "output_type": "error",
     "traceback": [
      "\u001b[1;31m---------------------------------------------------------------------------\u001b[0m",
      "\u001b[1;31mNameError\u001b[0m                                 Traceback (most recent call last)",
      "\u001b[1;32m<ipython-input-1-c87e487855e2>\u001b[0m in \u001b[0;36m<module>\u001b[1;34m\u001b[0m\n\u001b[1;32m----> 1\u001b[1;33m \u001b[1;33m(\u001b[0m\u001b[0mtdm\u001b[0m\u001b[1;33m.\u001b[0m\u001b[0mloc\u001b[0m\u001b[1;33m[\u001b[0m\u001b[1;34m'росс'\u001b[0m\u001b[1;33m]\u001b[0m\u001b[1;33m.\u001b[0m\u001b[0mastype\u001b[0m\u001b[1;33m(\u001b[0m\u001b[1;34m'bool'\u001b[0m\u001b[1;33m)\u001b[0m\u001b[1;33m)\u001b[0m\u001b[1;33m\u001b[0m\u001b[0m\n\u001b[0m",
      "\u001b[1;31mNameError\u001b[0m: name 'tdm' is not defined"
     ]
    }
   ],
   "source": [
    "(tdm.loc['росс'].astype('bool'))"
   ]
  },
  {
   "cell_type": "code",
   "execution_count": 53,
   "metadata": {},
   "outputs": [],
   "source": [
    "### постройте матрицу терм-документ\n",
    "operator_mapping = {'&': '&', 'ИЛИ': '|', 'НЕ': '~'}\n",
    "SIGNS = ['&', '|', '~', '(', ')']\n",
    "\n",
    "### напишите функцию булева поиска по построенной матрице\n",
    "def boolean_search(query) -> list:\n",
    "    \"\"\"\n",
    "    Produces a Boolean search according with the term-document matrix\n",
    "    :return: list of first 5 relevant documents\n",
    "    \"\"\"\n",
    "    \n",
    "    query_with_spaces = query.replace('(', ' ( ').replace(')', ' ) ')\n",
    "    query_remapped = []\n",
    "    for operator in query_with_spaces.split():\n",
    "        if operator in operator_mapping:\n",
    "            query_remapped.append(operator_mapping[operator])\n",
    "        else:\n",
    "            query_remapped.append(operator)\n",
    "    query_remapped = \" \".join(query_remapped)\n",
    "    query_eval = []\n",
    "    for operator in query_remapped.split():\n",
    "        if operator not in SIGNS:\n",
    "            eval_operator = 'tdm.loc['+'\"' + morph.parse(operator)[0].normal_form + '\"'+'].astype(\"bool\")' \n",
    "        else:\n",
    "            eval_operator = operator\n",
    "        query_eval.append(eval_operator)\n",
    "    query_eval = ' '.join(query_eval)\n",
    "    return eval(query_eval)\n",
    "\n",
    "\n",
    "#запросы \n",
    "input_text = [\n",
    "    'Моника & Фиби & Рэйчел & Чендлер & Джои & Росс',\n",
    "    '(Моника ИЛИ Фиби) & Рэйчел & (Чендлер ИЛИ Джои) & Росс', \n",
    "    '(НЕ Моника) & Фиби & Рэйчел & Чендлер & Джои & (НЕ Росс)'\n",
    "]\n",
    "# Была тут версия с приведением к нормальной форме, но я её удалил\n",
    "# когда мне показалось что что-то парсится неправильно\n",
    "# так мы и не узнаем, что там было... (pymorphy2 + nltk boys)\n",
    "# upd:: я всё-таки это сделал, лол"
   ]
  },
  {
   "cell_type": "markdown",
   "metadata": {},
   "source": [
    "<img src=\"pics/inv_index3.svg\" alt=\"Drawing\" style=\"width: 600px;\"/>"
   ]
  },
  {
   "cell_type": "markdown",
   "metadata": {},
   "source": [
    "Совет для построения обратного индекса: \n",
    "> В качестве словаря используйте ``` defaultdict ``` из модуля collections   \n",
    "Так можно избежать конструкции ``` dict.setdefault(key, default=None) ```"
   ]
  },
  {
   "cell_type": "code",
   "execution_count": 54,
   "metadata": {},
   "outputs": [],
   "source": [
    "import collections"
   ]
  },
  {
   "cell_type": "code",
   "execution_count": 55,
   "metadata": {},
   "outputs": [],
   "source": [
    "inverted_idx = tdm.transpose()\n",
    "inverted_idx_bool = tdm.transpose().astype('bool')\n",
    "frequent = inverted_idx.sum().idxmax()\n",
    "less_frequent = inverted_idx.sum().idxmin()\n",
    "everywhere_words = inverted_idx.columns[(inverted_idx.sum() == 165)]\n",
    "\n"
   ]
  },
  {
   "cell_type": "code",
   "execution_count": null,
   "metadata": {},
   "outputs": [],
   "source": []
  },
  {
   "cell_type": "markdown",
   "metadata": {},
   "source": [
    "С помощью обратного индекса произведите следующую аналитику:  \n",
    "\n",
    "1) общая аналитика\n",
    "- какое слово является самым частотным?\n",
    "- какое самым редким?\n",
    "- какой набор слов есть во всех документах коллекции?\n",
    "\n",
    "2) частота встречаемости имен главных героев в каждом сезоне      \n",
    "- какой сезон был самым популярным у Чендлера? у Моники?   \n",
    "- кто из главных героев статистически самый популярный? \n"
   ]
  },
  {
   "cell_type": "markdown",
   "metadata": {},
   "source": [
    "## Функция ранжирования Okapi BM25"
   ]
  },
  {
   "cell_type": "markdown",
   "metadata": {},
   "source": [
    "Для обратного индекса есть общепринятая формула для ранжирования *Okapi best match 25* ([Okapi BM25](https://ru.wikipedia.org/wiki/Okapi_BM25)).    \n",
    "Пусть дан запрос $Q$, содержащий слова  $q_1, ... , q_n$, тогда функция BM25 даёт следующую оценку релевантности документа $D$ запросу $Q$:\n",
    "\n",
    "$$ score(D, Q) = \\sum_{i}^{n} \\text{IDF}(q_i)*\\frac{(k_1+1)*f(q_i,D)}{f(q_i,D)+k_1(1-b+b\\frac{|D|}{avgdl})} $$ \n",
    "где   \n",
    ">$f(q_i,D)$ - частота слова $q_i$ в документе $D$ (TF)       \n",
    "$|D|$ - длина документа (количество слов в нём)   \n",
    "*avgdl* — средняя длина документа в коллекции    \n",
    "$k_1$ и $b$ — свободные коэффициенты, обычно их выбирают как $k_1$=2.0 и $b$=0.75   \n",
    "$$$$\n",
    "$\\text{IDF}(q_i)$ есть обратная документная частота (IDF) слова $q_i$: \n",
    "$$\\text{IDF}(q_i) = \\log\\frac{N-n(q_i)+0.5}{n(q_i)+0.5},$$\n",
    ">> где $N$ - общее количество документов в коллекции   \n",
    "$n(q_i)$ — количество документов, содержащих $q_i$"
   ]
  },
  {
   "cell_type": "code",
   "execution_count": 78,
   "metadata": {},
   "outputs": [],
   "source": [
    "### реализуйте эту функцию ранжирования \n",
    "from math import log\n",
    "\n",
    "k1 = 2.0\n",
    "b = 0.75\n"
   ]
  },
  {
   "cell_type": "code",
   "execution_count": 72,
   "metadata": {},
   "outputs": [],
   "source": [
    "from collections import defaultdict"
   ]
  },
  {
   "cell_type": "markdown",
   "metadata": {},
   "source": [
    "### __Задача__:    \n",
    "напишите функцию, которая сортирует поисковую выдачу для любого входящего запроса согласно метрике *Okapi BM25*.    \n",
    "Выведите 10 первых результатов и их скор по запросу **рождественские каникулы**. "
   ]
  },
  {
   "cell_type": "code",
   "execution_count": 106,
   "metadata": {},
   "outputs": [],
   "source": [
    "def score_BM25(qf, dl, avgdl, k1, b, N, n) -> float:\n",
    "    \"\"\"\n",
    "    Compute similarity score between word and document from collection\n",
    "    :return: score\n",
    "    \"\"\"\n",
    "    idf = log((N -n +0.5)/(n + 0.5)) \n",
    "    numerator = (k1 + 1) * qf\n",
    "    denumerator = qf + k1* (1 - b + b  * (dl / avgdl))\n",
    "    return idf * numerator / denumerator\n",
    "\n",
    "\n",
    "def compute_sim(lemma, inverted_index, relevance_dict) -> float:\n",
    "    \"\"\"\n",
    "    Compute similarity score between word in search query and all document  from collection\n",
    "    :return: score\n",
    "    \"\"\"\n",
    "    doc_freqs = inverted_index[lemma]\n",
    "    n = doc_freqs.astype('bool').sum()\n",
    "    N = len(doc_freqs.index)\n",
    "    avgdl = length_series.mean()\n",
    "    for doc in doc_freqs.index:\n",
    "        qf = doc_freqs[doc]\n",
    "        dl = length_series[doc]\n",
    "        relevance_dict[doc] += score_BM25(qf, dl, avgdl, k1, b, N, n)\n",
    "    return relevance_dict\n",
    "\n",
    "\n",
    "def get_search_result(query) -> list:\n",
    "    \"\"\"\n",
    "    Compute sim score between search query and all documents in collection\n",
    "    Collect as pair (doc_id, score)\n",
    "    :param query: input text\n",
    "    :return: list of lists with (doc_id, score)\n",
    "    \"\"\"\n",
    "    relevance_dict = defaultdict(float)\n",
    "    for word in query.split():\n",
    "        relevance_dict = compute_sim(morph.parse(word)[0].normal_form, inverted_idx, relevance_dict)\n",
    "    relevance_series = pd.Series(list(relevance_dict.values()))\n",
    "    relevance_series.index = filenames_list\n",
    "    sorted_relevance = relevance_series.sort_values(ascending=False)\n",
    "    return sorted_relevance"
   ]
  },
  {
   "cell_type": "code",
   "execution_count": 109,
   "metadata": {},
   "outputs": [
    {
     "data": {
      "text/plain": [
       "The One With The Holiday Armadillo.ru         9.877259\n",
       "The One With Joey's Fridge.ru                 7.837192\n",
       "The One Where Rachel Quits.ru                 5.705451\n",
       "The One With Phoebe's Dad.ru                  4.845616\n",
       "The One With Two Parts (2).ru                 4.168417\n",
       "The One With Two Parts (1).ru                 4.143577\n",
       "The One With The 'Cuffs.ru                    4.094186\n",
       "The One With The Girl From Poughkeepsie.ru    4.025393\n",
       "The One Where Ross Got High.ru                3.407325\n",
       "The One With The Joke.ru                      3.404263\n",
       "dtype: float64"
      ]
     },
     "execution_count": 109,
     "metadata": {},
     "output_type": "execute_result"
    }
   ],
   "source": [
    "get_search_result('рождественские каникулы').head(10)"
   ]
  }
 ],
 "metadata": {
  "kernelspec": {
   "display_name": "ir-Go6w3_Zw",
   "language": "python",
   "name": "ir-go6w3_zw"
  },
  "language_info": {
   "codemirror_mode": {
    "name": "ipython",
    "version": 3
   },
   "file_extension": ".py",
   "mimetype": "text/x-python",
   "name": "python",
   "nbconvert_exporter": "python",
   "pygments_lexer": "ipython3",
   "version": "3.7.0"
  }
 },
 "nbformat": 4,
 "nbformat_minor": 2
}
