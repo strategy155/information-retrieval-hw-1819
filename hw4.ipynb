{
 "cells": [
  {
   "cell_type": "markdown",
   "metadata": {},
   "source": [
    "# Семинар 5    \n",
    "## Собираем поисковик \n",
    "\n",
    "![](https://bilimfili.com/wp-content/uploads/2017/06/bir-urune-emek-vermek-o-urune-olan-deger-algimizi-degistirir-mi-bilimfilicom.jpg) \n",
    "\n",
    "\n",
    "Мы уже все знаем, для того чтобы сделать поисковик. Осталось соединить все части вместе.    \n",
    "Итак, для поисковика нам понадобятся:         \n",
    "**1. База документов **\n",
    "> в первом дз - корпус Друзей    \n",
    "в сегодняшнем дз - корпус юридических вопросов-ответов    \n",
    "в итоговом проекте - корпус Авито   \n",
    "\n",
    "**2. Функция индексации**                 \n",
    "Что делает: собирает информацию о корпусе, по которуму будет происходить поиск      \n",
    "Своя для каждого поискового метода:       \n",
    "> A. для обратного индекса она создает обратный индекс (чудо) и сохраняет статистики корпуса, необходимые для Okapi BM25 (средняя длина документа в коллекции, количество доков ... )             \n",
    "> B. для поиска через word2vec эта функция создает вектор для каждого документа в коллекции путем, например, усреднения всех векторов коллекции       \n",
    "> C. для поиска через doc2vec эта функция создает вектор для каждого документа               \n",
    "\n",
    "   Не забывайте сохранить все, что насчитает эта функция. Если это будет происходить налету во время поиска, понятно, что он будет работать сто лет     \n",
    "   \n",
    "**3. Функция поиска**     \n",
    "Можно разделить на две части:\n",
    "1. функция вычисления близости между запросом и документом    \n",
    "> 1. для индекса это Okapi BM25\n",
    "> 2. для w2v и d2v это обычная косинусная близость между векторами          \n",
    "2. ранжирование (или просто сортировка)\n",
    "\n",
    "\n",
    "Время все это реализовать."
   ]
  },
  {
   "cell_type": "markdown",
   "metadata": {},
   "source": [
    "# Индексация\n",
    "## Word2Vec\n",
    "### Задание 1\n",
    "Загрузите любую понравившуюся вам word2vec модель"
   ]
  },
  {
   "cell_type": "code",
   "execution_count": 16,
   "metadata": {},
   "outputs": [],
   "source": [
    "from gensim.models import Word2Vec, KeyedVectors"
   ]
  },
  {
   "cell_type": "code",
   "execution_count": 17,
   "metadata": {},
   "outputs": [],
   "source": [
    "model_path = 'D:\\\\work\\\\ir\\\\ruwikiruscorpora-nobigrams_upos_skipgram_300_5_2018.vec'"
   ]
  },
  {
   "cell_type": "code",
   "execution_count": 18,
   "metadata": {},
   "outputs": [],
   "source": [
    "# если модель с POS-тэггингом\n",
    "model = KeyedVectors.load_word2vec_format(model_path, binary=False)"
   ]
  },
  {
   "cell_type": "markdown",
   "metadata": {},
   "source": [
    "### Задание 2 \n",
    "Напишите функцию индексации для поиска через word2vec. Она должна для каждого документа из корпуса строить вектор.   \n",
    "Все вектора надо сохранить, по формату советую json. При сохранении не забывайте, что вам надо сохранить не только  вектор, но и опознователь текста, которому он принадлежит. \n",
    "Для поисковика это может быть url страницы, для поиска по текстовому корпусу сам текст.\n",
    "\n",
    "> В качестве документа для word2vec берите **параграфы** исходного текста, а не весь текст целиком. Так вектора будут более осмысленными. В противном случае можно получить один очень общий вектор, релевантый совершенно разным запросам."
   ]
  },
  {
   "cell_type": "code",
   "execution_count": 82,
   "metadata": {},
   "outputs": [],
   "source": [
    "import nltk\n",
    "import pymorphy2\n",
    "import os\n",
    "import numpy as np\n",
    "\n",
    "morph = pymorphy2.MorphAnalyzer()\n",
    "main_dir = 'D:\\\\work\\\\ir\\\\small_corp'"
   ]
  },
  {
   "cell_type": "code",
   "execution_count": 63,
   "metadata": {},
   "outputs": [],
   "source": [
    "files_list = []\n",
    "filenames_list = []\n",
    "\n",
    "for root, dirs, filenames in os.walk(main_dir):\n",
    "    for filename in filenames:\n",
    "        filepath = os.path.join(root, filename)\n",
    "        filenames_list.append(os.path.splitext(filename)[0].split('-')[-1].strip())\n",
    "        with open(filepath, 'r',encoding='utf-8') as txt_file:\n",
    "            files_list.append(txt_file.read())     "
   ]
  },
  {
   "cell_type": "code",
   "execution_count": 70,
   "metadata": {},
   "outputs": [],
   "source": [
    "files_list = [text.split('text:')[-1] for text in files_list]"
   ]
  },
  {
   "cell_type": "code",
   "execution_count": 71,
   "metadata": {},
   "outputs": [],
   "source": [
    "from russian_tagsets import converters\n",
    "to_ud = converters.converter('opencorpora-int', 'ud20')"
   ]
  },
  {
   "cell_type": "code",
   "execution_count": 72,
   "metadata": {},
   "outputs": [],
   "source": [
    "tokens_list = []\n",
    "\n",
    "for file in files_list:\n",
    "    parsed_line = []\n",
    "    tokens = nltk.word_tokenize(file)\n",
    "    for token in tokens:\n",
    "        res = morph.parse(token)[0]\n",
    "        if res.tag.POS:\n",
    "            new_token =  res.normal_form +'_'+ to_ud(res.tag.POS).split()[0]\n",
    "            parsed_line.append(new_token)\n",
    "    parsed_line = \" \".join(parsed_line)\n",
    "    tokens_list.append(parsed_line)"
   ]
  },
  {
   "cell_type": "code",
   "execution_count": 74,
   "metadata": {},
   "outputs": [
    {
     "data": {
      "text/plain": [
       "'в_ADP хороший_ADJ состояние_NOUN 2007г_NOUN'"
      ]
     },
     "execution_count": 74,
     "metadata": {},
     "output_type": "execute_result"
    }
   ],
   "source": [
    "tokens_list[4]"
   ]
  },
  {
   "cell_type": "code",
   "execution_count": 106,
   "metadata": {},
   "outputs": [],
   "source": [
    "save_path = 'D:\\\\work\\\\ir\\\\db_w2v\\\\'"
   ]
  },
  {
   "cell_type": "code",
   "execution_count": 104,
   "metadata": {},
   "outputs": [],
   "source": [
    "def get_w2v_vectors(tokens_string):\n",
    "    \"\"\"Получает вектор документа\"\"\"\n",
    "    vec = np.zeros((300))\n",
    "    counter = 0\n",
    "    for token in tokens_string.split():\n",
    "        if token in model:\n",
    "            counter += 1 \n",
    "            vec = np.add(vec, model[token])\n",
    "    if counter > 0: \n",
    "        return vec/counter\n",
    "    else:\n",
    "        return vec\n",
    "\n",
    "def save_w2v_base():\n",
    "    \"\"\"Индексирует всю базу для поиска через word2vec\"\"\"\n",
    "    for idx, token_string in enumerate(tokens_list):\n",
    "        np.save( save_path + filenames_list[idx] + '.npy', get_w2v_vectors(token_string))"
   ]
  },
  {
   "cell_type": "code",
   "execution_count": 107,
   "metadata": {},
   "outputs": [],
   "source": [
    "save_w2v_base()"
   ]
  },
  {
   "cell_type": "code",
   "execution_count": null,
   "metadata": {},
   "outputs": [],
   "source": []
  },
  {
   "cell_type": "markdown",
   "metadata": {},
   "source": [
    "## Doc2Vec\n",
    "### Задание 3\n",
    "Напишите функцию обучения doc2vec на юридических текстах, и получите свою кастомную d2v модель. \n",
    "> Совет: есть мнение, что для обучения doc2vec модели не нужно удалять стоп-слова из корпуса. Они являются важными семантическими элементами.      \n",
    "\n",
    "Важно! В качестве документа для doc2vec берите **параграфы** исходного текста, а не весь текст целиком. И не забывайте про предобработку."
   ]
  },
  {
   "cell_type": "code",
   "execution_count": 161,
   "metadata": {},
   "outputs": [],
   "source": [
    "from gensim.models.doc2vec import Doc2Vec, TaggedDocument\n",
    "\n",
    "d2v_save_path = 'D:\\\\work\\\\ir\\\\db_d2v\\\\'"
   ]
  },
  {
   "cell_type": "code",
   "execution_count": 142,
   "metadata": {},
   "outputs": [],
   "source": [
    "docs = []\n",
    "\n",
    "\n",
    "for idx, file in enumerate(files_list):\n",
    "    parsed_line = []\n",
    "    tokens = nltk.word_tokenize(file)\n",
    "    for token in tokens:\n",
    "        res = morph.parse(token)[0]\n",
    "        if res.tag.POS:\n",
    "            new_token =  res.normal_form +'_'+ to_ud(res.tag.POS).split()[0]\n",
    "            parsed_line.append(new_token)\n",
    "    t = TaggedDocument(parsed_line, [filenames_list[idx]])\n",
    "    docs.append(t)\n",
    "\n"
   ]
  },
  {
   "cell_type": "code",
   "execution_count": null,
   "metadata": {},
   "outputs": [],
   "source": []
  },
  {
   "cell_type": "code",
   "execution_count": 147,
   "metadata": {},
   "outputs": [],
   "source": [
    "def train_doc2vec():\n",
    "    tagged_data = docs\n",
    "    d2model = Doc2Vec(vector_size=100, min_count=1, alpha=0.025, \n",
    "                min_alpha=0.025, epochs=100, workers=4, dm=1)\n",
    "    d2model.build_vocab(tagged_data)\n",
    "    d2model.train(tagged_data, total_examples=d2model.corpus_count, epochs=d2model.epochs)\n",
    "    return d2model"
   ]
  },
  {
   "cell_type": "code",
   "execution_count": 149,
   "metadata": {},
   "outputs": [],
   "source": [
    "d2v = train_doc2vec()\n"
   ]
  },
  {
   "cell_type": "code",
   "execution_count": 156,
   "metadata": {},
   "outputs": [
    {
     "data": {
      "text/plain": [
       "array([-1.4122753 ,  0.13451298, -0.6794814 ,  0.8887192 , -0.5297949 ,\n",
       "       -1.5784425 ,  0.28120717, -0.8307996 , -0.834838  , -1.4230663 ,\n",
       "       -0.07339069, -0.252388  ,  0.34186664,  1.6430672 ,  1.88629   ,\n",
       "       -0.39578202,  1.3162977 , -2.6882977 , -0.04897378, -0.978478  ,\n",
       "       -0.22896   , -0.32751045, -0.8776489 , -0.1450509 , -0.54065126,\n",
       "        0.13139144, -0.02085602,  0.96709913, -1.1883047 , -0.40493727,\n",
       "        0.508319  , -0.32163307,  0.355028  ,  1.4780113 , -0.26284963,\n",
       "       -0.6874224 , -0.5674473 ,  0.17464145,  1.5861082 , -0.7705194 ,\n",
       "       -0.3348891 ,  0.15415905, -0.16587476, -0.21483152,  2.048567  ,\n",
       "       -0.7060491 ,  0.4809902 ,  0.8401899 , -0.46194327, -0.5742235 ,\n",
       "       -0.30292916, -0.33116862,  1.7527803 , -0.17137058, -1.0662539 ,\n",
       "       -0.60030836,  0.97545576, -0.22212784,  1.6950212 ,  0.56585586,\n",
       "        0.827901  , -0.05274556,  0.9357327 , -0.08777424, -0.04241303,\n",
       "        0.310094  , -1.2013171 , -1.219638  , -0.7906719 , -1.091107  ,\n",
       "       -0.91431314, -0.9671097 , -0.2630255 ,  0.6715913 , -0.07302631,\n",
       "       -0.23515388, -1.0086813 , -0.31247512, -0.51067823, -1.1978345 ,\n",
       "       -0.6205803 ,  0.5911437 ,  0.78085923, -0.42108124, -0.55126697,\n",
       "       -1.5089915 ,  2.3705542 ,  0.53286517,  0.2706615 ,  2.554797  ,\n",
       "       -0.46720746, -0.33064   , -0.37651718,  0.76096404,  1.4893389 ,\n",
       "        0.73169035, -0.06847769,  0.0179105 , -0.99868983, -0.39446357],\n",
       "      dtype=float32)"
      ]
     },
     "execution_count": 156,
     "metadata": {},
     "output_type": "execute_result"
    }
   ],
   "source": []
  },
  {
   "cell_type": "markdown",
   "metadata": {},
   "source": [
    "### Задание 4\n",
    "Напишите функцию индексации для поиска через doc2vec. Она должна для каждого документа из корпуса получать вектор.    \n",
    "Все вектора надо сохранить, по формату советую json. При сохранении не забывайте, что вам надо сохранить не только вектор, но и опознователь текста, которому он принадлежит. "
   ]
  },
  {
   "cell_type": "code",
   "execution_count": 164,
   "metadata": {},
   "outputs": [],
   "source": [
    "def get_d2v_vectors(filename):\n",
    "    \"\"\"Получает вектор документа\"\"\"\n",
    "    return d2v.docvecs[filename]\n",
    "\n",
    "def save_d2v_base():\n",
    "    \"\"\"Индексирует всю базу для поиска через doc2vec\"\"\"\n",
    "    for filename  in filenames_list:\n",
    "        np.save( d2v_save_path + filename + '.npy', get_d2v_vectors(filename))\n",
    "    "
   ]
  },
  {
   "cell_type": "code",
   "execution_count": 165,
   "metadata": {},
   "outputs": [],
   "source": [
    "save_d2v_base()"
   ]
  },
  {
   "cell_type": "markdown",
   "metadata": {},
   "source": [
    "# Функция поиска"
   ]
  },
  {
   "cell_type": "markdown",
   "metadata": {},
   "source": [
    "Для обратного индекса функцией поиска является Okapi BM25. Она у вас уже должна быть реализована."
   ]
  },
  {
   "cell_type": "code",
   "execution_count": null,
   "metadata": {},
   "outputs": [],
   "source": []
  },
  {
   "cell_type": "code",
   "execution_count": 205,
   "metadata": {},
   "outputs": [],
   "source": [
    "def score_BM25(qf, dl, avgdl, k1, b, N, n) -> float:\n",
    "    \"\"\"\n",
    "    Compute similarity score between word and document from collection\n",
    "    :return: score\n",
    "    \"\"\"\n",
    "    idf = log((N -n +0.5)/(n + 0.5)) \n",
    "    numerator = (k1 + 1) * qf\n",
    "    denumerator = qf + k1* (1 - b + b  * (dl / avgdl))\n",
    "    return idf * numerator / denumerator\n",
    "\n",
    "\n",
    "def compute_sim(lemma, inverted_index, relevance_dict) -> float:\n",
    "    \"\"\"\n",
    "    Compute similarity score between word in search query and all document  from collection\n",
    "    :return: score\n",
    "    \"\"\"\n",
    "    doc_freqs = inverted_index[lemma]\n",
    "    n = doc_freqs.astype('bool').sum()\n",
    "    N = len(doc_freqs.index)\n",
    "    avgdl = length_series.mean()\n",
    "    for doc in doc_freqs.index:\n",
    "        qf = doc_freqs[doc]\n",
    "        dl = length_series[doc]\n",
    "        relevance_dict[doc] += score_BM25(qf, dl, avgdl, k1, b, N, n)\n",
    "    return relevance_dict\n",
    "\n",
    "\n",
    "def okapi_search(query) -> list:\n",
    "    \"\"\"\n",
    "    Compute sim score between search query and all documents in collection\n",
    "    Collect as pair (doc_id, score)\n",
    "    :param query: input text\n",
    "    :return: list of lists with (doc_id, score)\n",
    "    \"\"\"\n",
    "    relevance_dict = defaultdict(float)\n",
    "    for word in query.split():\n",
    "        relevance_dict = compute_sim(morph.parse(word)[0].normal_form, inverted_idx, relevance_dict)\n",
    "    relevance_series = pd.Series(list(relevance_dict.values()))\n",
    "    relevance_series.index = filenames_list\n",
    "    sorted_relevance = relevance_series.sort_values(ascending=False)\n",
    "    return sorted_relevance"
   ]
  },
  {
   "cell_type": "markdown",
   "metadata": {},
   "source": [
    "Функция измерения близости между векторами нам пригодится:"
   ]
  },
  {
   "cell_type": "code",
   "execution_count": 166,
   "metadata": {},
   "outputs": [],
   "source": [
    "from gensim import matutils\n",
    "import numpy as np \n",
    "\n",
    "def similarity(v1, v2):\n",
    "    v1_norm = matutils.unitvec(np.array(v1))\n",
    "    v2_norm = matutils.unitvec(np.array(v2))\n",
    "    return np.dot(v1_norm, v2_norm)"
   ]
  },
  {
   "cell_type": "code",
   "execution_count": 181,
   "metadata": {},
   "outputs": [],
   "source": [
    "from collections import defaultdict\n",
    "import pandas as pd"
   ]
  },
  {
   "cell_type": "markdown",
   "metadata": {},
   "source": [
    "### Задание 5\n",
    "Напишите функцию для поиска через word2vec и для поиска через doc2vec, которая по входящему запросу выдает отсортированную выдачу документов."
   ]
  },
  {
   "cell_type": "code",
   "execution_count": 201,
   "metadata": {},
   "outputs": [],
   "source": [
    "def search_w2v(query):\n",
    "    relevance_dict = defaultdict(float)\n",
    "    words = query.split()\n",
    "    for word in words:\n",
    "        res = morph.parse(word)[0]\n",
    "        if res.tag.POS:\n",
    "            new_token =  res.normal_form +'_'+ to_ud(res.tag.POS).split()[0]\n",
    "            relevance_dict = w2v_lemma_sim(new_token, relevance_dict)\n",
    "    relevance_series = pd.Series(list(relevance_dict.values()))\n",
    "    relevance_series.index = filenames_list\n",
    "    sorted_relevance = relevance_series.sort_values(ascending=False)\n",
    "    return sorted_relevance\n",
    "\n",
    "def w2v_lemma_sim(lemma, relevance_dict):\n",
    "    for filename in filenames_list:\n",
    "        doc_vec = np.load(save_path + filename + '.npy')\n",
    "        if lemma in model:\n",
    "            lemma_vec = model[lemma]\n",
    "        else:\n",
    "            lemma_vec = np.zeros(300)\n",
    "        relevance_dict[filename] += similarity(doc_vec, lemma_vec)\n",
    "    return relevance_dict\n",
    "\n",
    "def d2v_lemma_sim(lemma, relevance_dict):\n",
    "    for filename in filenames_list:\n",
    "        doc_vec = np.load(d2v_save_path + filename + '.npy')\n",
    "        if lemma in d2v.wv:\n",
    "            lemma_vec = d2v.wv[lemma]\n",
    "        else:\n",
    "            lemma_vec = np.zeros(100)\n",
    "        relevance_dict[filename] += similarity(doc_vec, lemma_vec)\n",
    "    return relevance_dict\n",
    "\n",
    "\n",
    "    \n",
    "\n",
    "def search_d2v(query):\n",
    "    relevance_dict = defaultdict(float)\n",
    "    words = query.split()\n",
    "    for word in words:\n",
    "        res = morph.parse(word)[0]\n",
    "        if res.tag.POS:\n",
    "            new_token =  res.normal_form +'_'+ to_ud(res.tag.POS).split()[0]\n",
    "            relevance_dict = d2v_lemma_sim(new_token, relevance_dict)\n",
    "    relevance_series = pd.Series(list(relevance_dict.values()))\n",
    "    relevance_series.index = filenames_list\n",
    "    sorted_relevance = relevance_series.sort_values(ascending=False)\n",
    "    return sorted_relevance\n",
    "\n",
    "\n",
    "\n",
    "\n"
   ]
  },
  {
   "cell_type": "code",
   "execution_count": null,
   "metadata": {},
   "outputs": [],
   "source": []
  },
  {
   "cell_type": "markdown",
   "metadata": {},
   "source": [
    "После выполнения всех этих заданий ваш поисковик готов, поздравляю!                  \n",
    "Осталось завернуть все написанное в питон скрипт, и сделать общую функцию поиска гибким, чтобы мы могли искать как по обратному индексу, так и по word2vec, так и по doc2vec.          \n",
    "Сделать это можно очень просто через старый добрый ``` if ```, который будет дергать ту или иную функцию поиска:"
   ]
  },
  {
   "cell_type": "code",
   "execution_count": null,
   "metadata": {},
   "outputs": [],
   "source": [
    "def search(query, search_method):\n",
    "    if search_method == 'inverted_index':\n",
    "\n",
    "        search_result = okapi_search()\n",
    "    elif search_method == 'word2vec':\n",
    "        ...\n",
    "        search_result = search_w2v()\n",
    "    elif search_method == 'doc2vec':\n",
    "        ...\n",
    "        search_result = search_d2v()\n",
    "    else:\n",
    "        raise TypeError('unsupported search method')"
   ]
  },
  {
   "cell_type": "code",
   "execution_count": null,
   "metadata": {},
   "outputs": [],
   "source": []
  }
 ],
 "metadata": {
  "kernelspec": {
   "display_name": "ir-Go6w3_Zw",
   "language": "python",
   "name": "ir-go6w3_zw"
  },
  "language_info": {
   "codemirror_mode": {
    "name": "ipython",
    "version": 3
   },
   "file_extension": ".py",
   "mimetype": "text/x-python",
   "name": "python",
   "nbconvert_exporter": "python",
   "pygments_lexer": "ipython3",
   "version": "3.7.0"
  }
 },
 "nbformat": 4,
 "nbformat_minor": 2
}
